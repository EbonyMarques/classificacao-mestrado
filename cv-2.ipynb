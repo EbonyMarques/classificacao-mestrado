{
 "cells": [
  {
   "cell_type": "code",
   "execution_count": 1,
   "metadata": {},
   "outputs": [],
   "source": [
    "import pandas as pd\n",
    "from sklearn.svm import SVC\n",
    "from sklearn.linear_model import LogisticRegression\n",
    "from xgboost import XGBClassifier\n",
    "from classificacao_multiclasse import cross_validation_classification\n",
    "from aux_functions import load_and_preprocess_data_2"
   ]
  },
  {
   "cell_type": "code",
   "execution_count": 2,
   "metadata": {},
   "outputs": [],
   "source": [
    "pd.set_option('display.max_columns', None)"
   ]
  },
  {
   "cell_type": "code",
   "execution_count": 3,
   "metadata": {},
   "outputs": [
    {
     "name": "stdout",
     "output_type": "stream",
     "text": [
      "0    1518\n",
      "1    1518\n",
      "2    1518\n",
      "Name: situacao_final_discente, dtype: int64\n"
     ]
    },
    {
     "name": "stderr",
     "output_type": "stream",
     "text": [
      "`sparse` was renamed to `sparse_output` in version 1.2 and will be removed in 1.4. `sparse_output` is ignored unless you leave `sparse` to its default value.\n"
     ]
    }
   ],
   "source": [
    "models = [XGBClassifier(random_state=42)] #, SVC(probability=True, random_state=42), LogisticRegression(random_state=42)\n",
    "# Escolha as métricas que deseja avaliar\n",
    "metrics_to_evaluate = ['accuracy', 'precision', 'recall', 'f1', 'roc_auc']\n",
    "data = load_and_preprocess_data_2().drop('id_discente',axis=1)\n",
    "labels = {\n",
    "    0: '1. Evasão até\\n 4 anos',\n",
    "    1: '2. Evasão após\\n 4 anos',\n",
    "    2: '3. Formação', \n",
    "    }"
   ]
  },
  {
   "cell_type": "code",
   "execution_count": 4,
   "metadata": {},
   "outputs": [
    {
     "name": "stdout",
     "output_type": "stream",
     "text": [
      "Iniciando iteração 1 do XGBClassifier...\n"
     ]
    },
    {
     "name": "stderr",
     "output_type": "stream",
     "text": [
      "Function plot_roc_curve is deprecated; This will be removed in v0.5.0. Please use scikitplot.metrics.plot_roc instead.\n"
     ]
    },
    {
     "name": "stdout",
     "output_type": "stream",
     "text": [
      "Iteração 1 do XGBClassifier concluída.\n",
      "\n",
      "Iniciando iteração 2 do XGBClassifier...\n"
     ]
    },
    {
     "name": "stderr",
     "output_type": "stream",
     "text": [
      "Function plot_roc_curve is deprecated; This will be removed in v0.5.0. Please use scikitplot.metrics.plot_roc instead.\n"
     ]
    },
    {
     "name": "stdout",
     "output_type": "stream",
     "text": [
      "Iteração 2 do XGBClassifier concluída.\n",
      "\n",
      "Iniciando iteração 3 do XGBClassifier...\n"
     ]
    },
    {
     "name": "stderr",
     "output_type": "stream",
     "text": [
      "Function plot_roc_curve is deprecated; This will be removed in v0.5.0. Please use scikitplot.metrics.plot_roc instead.\n"
     ]
    },
    {
     "name": "stdout",
     "output_type": "stream",
     "text": [
      "Iteração 3 do XGBClassifier concluída.\n",
      "\n",
      "Iniciando iteração 4 do XGBClassifier...\n"
     ]
    },
    {
     "name": "stderr",
     "output_type": "stream",
     "text": [
      "Function plot_roc_curve is deprecated; This will be removed in v0.5.0. Please use scikitplot.metrics.plot_roc instead.\n"
     ]
    },
    {
     "name": "stdout",
     "output_type": "stream",
     "text": [
      "Iteração 4 do XGBClassifier concluída.\n",
      "\n",
      "Iniciando iteração 5 do XGBClassifier...\n"
     ]
    },
    {
     "name": "stderr",
     "output_type": "stream",
     "text": [
      "Function plot_roc_curve is deprecated; This will be removed in v0.5.0. Please use scikitplot.metrics.plot_roc instead.\n"
     ]
    },
    {
     "name": "stdout",
     "output_type": "stream",
     "text": [
      "Iteração 5 do XGBClassifier concluída.\n",
      "\n"
     ]
    },
    {
     "name": "stderr",
     "output_type": "stream",
     "text": [
      "Function plot_roc_curve is deprecated; This will be removed in v0.5.0. Please use scikitplot.metrics.plot_roc instead.\n"
     ]
    },
    {
     "data": {
      "text/plain": [
       "<Figure size 640x480 with 0 Axes>"
      ]
     },
     "metadata": {},
     "output_type": "display_data"
    },
    {
     "data": {
      "text/plain": [
       "<Figure size 640x480 with 0 Axes>"
      ]
     },
     "metadata": {},
     "output_type": "display_data"
    },
    {
     "data": {
      "text/plain": [
       "<Figure size 800x750 with 0 Axes>"
      ]
     },
     "metadata": {},
     "output_type": "display_data"
    },
    {
     "data": {
      "text/plain": [
       "<Figure size 640x480 with 0 Axes>"
      ]
     },
     "metadata": {},
     "output_type": "display_data"
    },
    {
     "data": {
      "text/plain": [
       "<Figure size 800x750 with 0 Axes>"
      ]
     },
     "metadata": {},
     "output_type": "display_data"
    },
    {
     "data": {
      "text/plain": [
       "<Figure size 640x480 with 0 Axes>"
      ]
     },
     "metadata": {},
     "output_type": "display_data"
    },
    {
     "data": {
      "text/plain": [
       "<Figure size 800x750 with 0 Axes>"
      ]
     },
     "metadata": {},
     "output_type": "display_data"
    },
    {
     "data": {
      "text/plain": [
       "<Figure size 640x480 with 0 Axes>"
      ]
     },
     "metadata": {},
     "output_type": "display_data"
    },
    {
     "data": {
      "text/plain": [
       "<Figure size 800x750 with 0 Axes>"
      ]
     },
     "metadata": {},
     "output_type": "display_data"
    },
    {
     "data": {
      "text/plain": [
       "<Figure size 640x480 with 0 Axes>"
      ]
     },
     "metadata": {},
     "output_type": "display_data"
    },
    {
     "data": {
      "text/plain": [
       "<Figure size 800x750 with 0 Axes>"
      ]
     },
     "metadata": {},
     "output_type": "display_data"
    },
    {
     "data": {
      "text/plain": [
       "<Figure size 640x480 with 0 Axes>"
      ]
     },
     "metadata": {},
     "output_type": "display_data"
    },
    {
     "data": {
      "text/plain": [
       "<Figure size 700x400 with 0 Axes>"
      ]
     },
     "metadata": {},
     "output_type": "display_data"
    }
   ],
   "source": [
    "results = cross_validation_classification(data, 'situacao_final_discente', models, labels, metrics_to_evaluate, '2')\n",
    "df_results = pd.DataFrame(results).T\n",
    "df_results.to_csv('2/cv/2.csv')"
   ]
  },
  {
   "cell_type": "code",
   "execution_count": 5,
   "metadata": {},
   "outputs": [],
   "source": [
    "labels[0] = labels[0].replace('\\n','')\n",
    "labels[1] = labels[1].replace('\\n','')\n",
    "labels[2] = labels[2].replace('\\n','')"
   ]
  },
  {
   "cell_type": "code",
   "execution_count": 6,
   "metadata": {},
   "outputs": [
    {
     "name": "stdout",
     "output_type": "stream",
     "text": [
      "XGBClassifier \n",
      "\n",
      "Acurácia: 0.760430151626639\n",
      "\n",
      "Precisão\n",
      "1. Evasão até 4 anos: 0.7828636200378354\n",
      "2. Evasão após 4 anos: 0.7222217107026996\n",
      "3. Formação: 0.7771799643230635\n",
      "Média: 0.7607550983545328\n",
      "\n",
      "Recall\n",
      "1. Evasão até 4 anos: 0.7681366162932082\n",
      "2. Evasão após 4 anos: 0.696986277575126\n",
      "3. Formação: 0.8161868160500262\n",
      "Média: 0.7604365699727866\n",
      "\n",
      "F1\n",
      "1. Evasão até 4 anos: 0.7747141490295867\n",
      "2. Evasão após 4 anos: 0.7081379592082674\n",
      "3. Formação: 0.7960682090083547\n",
      "Média: 0.7596401057487363\n",
      "\n",
      "Tempo: 0.7411267757415771 segundos\n",
      "\n"
     ]
    }
   ],
   "source": [
    "for model_name, model_metrics in results.items():\n",
    "    print(model_name,'\\n')\n",
    "    print(f'Acurácia: {model_metrics[\"accuracy\"][0]}\\n')\n",
    "\n",
    "    print('Precisão')\n",
    "    print(f'{labels[0]}: {model_metrics[\"precision\"][1][0]}')\n",
    "    print(f'{labels[1]}: {model_metrics[\"precision\"][1][1]}')\n",
    "    print(f'{labels[2]}: {model_metrics[\"precision\"][1][2]}')\n",
    "    print(f'Média: {model_metrics[\"precision\"][0]}\\n')\n",
    "    \n",
    "    print('Recall')\n",
    "    print(f'{labels[0]}: {model_metrics[\"recall\"][1][0]}')\n",
    "    print(f'{labels[1]}: {model_metrics[\"recall\"][1][1]}')\n",
    "    print(f'{labels[2]}: {model_metrics[\"recall\"][1][2]}')\n",
    "    print(f'Média: {model_metrics[\"recall\"][0]}\\n')\n",
    "\n",
    "    print('F1')\n",
    "    print(f'{labels[0]}: {model_metrics[\"f1\"][1][0]}')\n",
    "    print(f'{labels[1]}: {model_metrics[\"f1\"][1][1]}')\n",
    "    print(f'{labels[2]}: {model_metrics[\"f1\"][1][2]}')\n",
    "    print(f'Média: {model_metrics[\"f1\"][0]}\\n')\n",
    "    \n",
    "    print(f'Tempo: {model_metrics[\"elapsed_time\"]} segundos\\n')"
   ]
  },
  {
   "cell_type": "code",
   "execution_count": null,
   "metadata": {},
   "outputs": [],
   "source": []
  }
 ],
 "metadata": {
  "kernelspec": {
   "display_name": "venv",
   "language": "python",
   "name": "python3"
  },
  "language_info": {
   "codemirror_mode": {
    "name": "ipython",
    "version": 3
   },
   "file_extension": ".py",
   "mimetype": "text/x-python",
   "name": "python",
   "nbconvert_exporter": "python",
   "pygments_lexer": "ipython3",
   "version": "3.11.1"
  }
 },
 "nbformat": 4,
 "nbformat_minor": 2
}
